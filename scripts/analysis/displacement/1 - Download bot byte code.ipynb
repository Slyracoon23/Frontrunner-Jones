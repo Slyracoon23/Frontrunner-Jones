{
 "cells": [
  {
   "cell_type": "markdown",
   "metadata": {},
   "source": [
    "# Download bot byte code\n",
    "\n",
    "The first step is downloading the byte code of each bot contract. We need it for clustering attackers.\n",
    "\n",
    "<font color='red'>We included the compressed result in the repository, you only need to run the first two cells to decompress them.</font>\n",
    "\n",
    "In order for this to work, you will need access to an Ethereum node."
   ]
  },
  {
   "cell_type": "code",
   "execution_count": 1,
   "metadata": {},
   "outputs": [
    {
     "name": "stderr",
     "output_type": "stream",
     "text": [
      "Consider installing rusty-rlp to improve pyrlp performance with a rust based backend\n"
     ]
    }
   ],
   "source": [
    "import json\n",
    "import os\n",
    "import tarfile\n",
    "\n",
    "from web3 import Web3"
   ]
  },
  {
   "cell_type": "markdown",
   "metadata": {},
   "source": [
    "If we did this before, we can decompress the results. If not, create the directory to donwload the byte code.\n",
    "\n",
    "<font color='red'>You do not need to continue after this cell.</font>"
   ]
  },
  {
   "cell_type": "code",
   "execution_count": 2,
   "metadata": {},
   "outputs": [],
   "source": [
    "data_directory = os.path.join(\"..\", \"..\", \"..\", \"data\")\n",
    "\n",
    "file_name = \"displacement_bot_bytecode\"\n",
    "directory_path = os.path.join(data_directory, file_name)\n",
    "compressed_path = os.path.join(data_directory, \"{}.tar.xz\".format(file_name))\n",
    "\n",
    "# there is already a compressed file\n",
    "if os.path.exists(compressed_path):\n",
    "    with tarfile.open(compressed_path, \"r:xz\", encoding=\"utf-8\") as compressed_file:\n",
    "        compressed_file.extractall(data_directory)\n",
    "# there is not compressed file so create the directory if needed\n",
    "elif not os.path.exists(directory_path):\n",
    "    os.makedirs(directory_path)"
   ]
  },
  {
   "cell_type": "markdown",
   "metadata": {},
   "source": [
    "Uncomment the line for the right web3 provider (websocket or http) and fill the host and port."
   ]
  },
  {
   "cell_type": "code",
   "execution_count": null,
   "metadata": {},
   "outputs": [],
   "source": [
    "# server = Web3(Web3.WebsocketProvider(\"ws://host:port\"))\n",
    "\n",
    "# server = Web3(Web3.HTTPProvider(\"http://host:port\"))"
   ]
  },
  {
   "cell_type": "markdown",
   "metadata": {},
   "source": [
    "Decompress the results file (if needed)."
   ]
  },
  {
   "cell_type": "code",
   "execution_count": 4,
   "metadata": {},
   "outputs": [],
   "source": [
    "results_file_path = os.path.join(data_directory, \"displacement_results.json\")\n",
    "\n",
    "if not os.path.exists(results_file_path):\n",
    "    with tarfile.open(os.path.join(data_directory, \"displacement_results.tar.xz\"), \"r:xz\", encoding=\"utf-8\") as compressed_file:\n",
    "        compressed_file.extract(\"displacement_results.json\", data_directory)"
   ]
  },
  {
   "cell_type": "markdown",
   "metadata": {},
   "source": [
    "Read the results one line at a time. Each line is json encoded."
   ]
  },
  {
   "cell_type": "code",
   "execution_count": 5,
   "metadata": {},
   "outputs": [],
   "source": [
    "with open(results_file_path, \"r\", encoding=\"utf-8\") as results_file:\n",
    "    results = []\n",
    "    line = results_file.readline().strip()\n",
    "    while line != \"\":\n",
    "        results.append(json.loads(line))\n",
    "        line = results_file.readline().strip()"
   ]
  },
  {
   "cell_type": "markdown",
   "metadata": {},
   "source": [
    "If a contract was destroyed we cannot fetch the bytecode. Since the code does not change (unless destroyed), we will request the code from an arbitrary block (the smallest) where we know that the contract was not yet destroyed."
   ]
  },
  {
   "cell_type": "code",
   "execution_count": 6,
   "metadata": {},
   "outputs": [],
   "source": [
    "first_block_by_bots = {}\n",
    "\n",
    "for result in results:\n",
    "    # ignore the bad results\n",
    "    if result[\"attacker_transaction\"][\"to\"] == result[\"victim_transaction\"][\"to\"]:\n",
    "        continue\n",
    "    \n",
    "    attacker_transaction = result[\"attacker_transaction\"]\n",
    "\n",
    "    bot = attacker_transaction[\"to\"]\n",
    "    block = attacker_transaction[\"blockNumber\"]\n",
    "    \n",
    "    # if we do not have block for this bot we keep it\n",
    "    if bot not in first_block_by_bots:\n",
    "        first_block_by_bots[bot] = block\n",
    "    # if not we keep it if it is smaller\n",
    "    elif block < first_block_by_bots[bot]:\n",
    "        first_block_by_bots[bot] = block"
   ]
  },
  {
   "cell_type": "markdown",
   "metadata": {},
   "source": [
    "Request the byte code for each bot. We use {address}-{block}.bin as a convention for the file names."
   ]
  },
  {
   "cell_type": "code",
   "execution_count": 7,
   "metadata": {
    "scrolled": false
   },
   "outputs": [],
   "source": [
    "for bot, first_block in first_block_by_bots.items():\n",
    "    code_file_path = os.path.join(directory_path, \"{}-{}.bin\".format(bot, first_block))\n",
    "    \n",
    "    # skip if already downloaded\n",
    "    if os.path.exists(code_file_path):\n",
    "        continue\n",
    "        \n",
    "    # I had to transform the address because of an error\n",
    "    # maybe the address was transformed to lower case\n",
    "    # see: https://stackoverflow.com/questions/57335994/trying-to-call-balanceof-function-in-ethereum-using-web3-py-library-but-getting\n",
    "    bot = Web3.toChecksumAddress(bot)\n",
    "    \n",
    "    code = server.eth.getCode(bot, block_identifier=first_block)\n",
    "    \n",
    "    with open(code_file_path, \"wb\") as code_file:\n",
    "        code_file.write(code)"
   ]
  },
  {
   "cell_type": "markdown",
   "metadata": {},
   "source": [
    "Compress the results."
   ]
  },
  {
   "cell_type": "code",
   "execution_count": 8,
   "metadata": {},
   "outputs": [],
   "source": [
    "with tarfile.open(compressed_path, \"w:xz\") as compressed_file:\n",
    "    compressed_file.add(directory_path, arcname=os.path.basename(file_name))"
   ]
  }
 ],
 "metadata": {
  "kernelspec": {
   "display_name": "Python 3",
   "language": "python",
   "name": "python3"
  },
  "language_info": {
   "codemirror_mode": {
    "name": "ipython",
    "version": 3
   },
   "file_extension": ".py",
   "mimetype": "text/x-python",
   "name": "python",
   "nbconvert_exporter": "python",
   "pygments_lexer": "ipython3",
   "version": "3.9.0"
  }
 },
 "nbformat": 4,
 "nbformat_minor": 4
}
