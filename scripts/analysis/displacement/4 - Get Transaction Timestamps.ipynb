{
 "cells": [
  {
   "cell_type": "markdown",
   "metadata": {},
   "source": [
    "# Get Transaction Timestamps\n",
    "\n",
    "We have the timestamps for insertion and suppression results but they are missing for displacement.\n",
    "\n",
    "Transactions have no timestamp. Instead, they have a reference to a block, and blocks have timestamp."
   ]
  },
  {
   "cell_type": "code",
   "execution_count": null,
   "metadata": {},
   "outputs": [],
   "source": [
    "import json\n",
    "import os\n",
    "import pickle\n",
    "import tarfile\n",
    "\n",
    "from web3 import Web3"
   ]
  },
  {
   "cell_type": "code",
   "execution_count": null,
   "metadata": {},
   "outputs": [],
   "source": [
    "data_directory = os.path.join(\"..\", \"..\", \"..\", \"data\")"
   ]
  },
  {
   "cell_type": "markdown",
   "metadata": {},
   "source": [
    "Uncomment the line for the right web3 provider (websocket or http) and fill the host and port."
   ]
  },
  {
   "cell_type": "code",
   "execution_count": null,
   "metadata": {},
   "outputs": [],
   "source": [
    "# server = Web3(Web3.WebsocketProvider(\"ws://host:port\"))\n",
    "\n",
    "# server = Web3(Web3.HTTPProvider(\"http://host:port\"))"
   ]
  },
  {
   "cell_type": "markdown",
   "metadata": {},
   "source": [
    "Decompress the results file (if needed)."
   ]
  },
  {
   "cell_type": "code",
   "execution_count": null,
   "metadata": {},
   "outputs": [],
   "source": [
    "results_file_path = os.path.join(data_directory, \"displacement_results.json\")\n",
    "\n",
    "if not os.path.exists(results_file_path):\n",
    "    with tarfile.open(os.path.join(data_directory, \"displacement_results.tar.xz\"), \"r:xz\", encoding=\"utf-8\") as compressed_file:\n",
    "        compressed_file.extract(\"displacement_results.json\", data_directory)"
   ]
  },
  {
   "cell_type": "markdown",
   "metadata": {},
   "source": [
    "Read the results one line at a time. Each line is json encoded."
   ]
  },
  {
   "cell_type": "code",
   "execution_count": null,
   "metadata": {},
   "outputs": [],
   "source": [
    "with open(results_file_path, \"r\", encoding=\"utf-8\") as results_file:\n",
    "    results = []\n",
    "    line = results_file.readline().strip()\n",
    "    while line != \"\":\n",
    "        results.append(json.loads(line))\n",
    "        line = results_file.readline().strip()"
   ]
  },
  {
   "cell_type": "markdown",
   "metadata": {},
   "source": [
    "Fetch the timestamp for the block."
   ]
  },
  {
   "cell_type": "code",
   "execution_count": null,
   "metadata": {},
   "outputs": [],
   "source": [
    "timestamp_by_block = {}"
   ]
  },
  {
   "cell_type": "code",
   "execution_count": null,
   "metadata": {},
   "outputs": [],
   "source": [
    "def update_block_timestamps(block_number):\n",
    "    if block_number not in timestamp_by_block:\n",
    "        timestamp_by_block[block_number] = server.eth.getBlock(block_number)[\"timestamp\"]\n",
    "\n",
    "for result in results:\n",
    "    update_block_timestamps(result[\"attacker_transaction\"][\"blockNumber\"])\n",
    "    update_block_timestamps(result[\"victim_transaction\"][\"blockNumber\"])"
   ]
  },
  {
   "cell_type": "code",
   "execution_count": null,
   "metadata": {},
   "outputs": [],
   "source": [
    "with open(os.path.join(data_directory, \"displacement_block_timestamps.pickle\"), \"wb\") as pikle_file:\n",
    "    pickle.dump(timestamp_by_block, pikle_file)"
   ]
  }
 ],
 "metadata": {
  "kernelspec": {
   "display_name": "Python 3",
   "language": "python",
   "name": "python3"
  },
  "language_info": {
   "codemirror_mode": {
    "name": "ipython",
    "version": 3
   },
   "file_extension": ".py",
   "mimetype": "text/x-python",
   "name": "python",
   "nbconvert_exporter": "python",
   "pygments_lexer": "ipython3",
   "version": "3.9.0"
  }
 },
 "nbformat": 4,
 "nbformat_minor": 4
}
