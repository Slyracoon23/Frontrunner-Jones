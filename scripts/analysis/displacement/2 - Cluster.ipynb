{
 "cells": [
  {
   "cell_type": "markdown",
   "metadata": {},
   "source": [
    "# Cluster\n",
    "\n",
    "In this step we will group the attacker accounts and bot contract into attacker clusters."
   ]
  },
  {
   "cell_type": "code",
   "execution_count": 1,
   "metadata": {},
   "outputs": [
    {
     "name": "stderr",
     "output_type": "stream",
     "text": [
      "Consider installing rusty-rlp to improve pyrlp performance with a rust based backend\n"
     ]
    }
   ],
   "source": [
    "import collections\n",
    "import json\n",
    "import os\n",
    "\n",
    "import matplotlib.pyplot as plt\n",
    "import networkx as nx\n",
    "import pandas as pd\n",
    "from pandas.plotting import register_matplotlib_converters\n",
    "from web3 import Web3\n",
    "\n",
    "\n",
    "register_matplotlib_converters()\n",
    "\n",
    "%matplotlib inline\n",
    "\n",
    "plt.style.use(\"seaborn\")"
   ]
  },
  {
   "cell_type": "markdown",
   "metadata": {},
   "source": [
    "You can change the data directory if you use a different project structure."
   ]
  },
  {
   "cell_type": "code",
   "execution_count": 2,
   "metadata": {},
   "outputs": [],
   "source": [
    "data_directory = os.path.join(\"..\", \"..\", \"..\", \"data\")"
   ]
  },
  {
   "cell_type": "markdown",
   "metadata": {},
   "source": [
    "Decompress the results file (if needed)."
   ]
  },
  {
   "cell_type": "code",
   "execution_count": 3,
   "metadata": {},
   "outputs": [],
   "source": [
    "results_file_path = os.path.join(data_directory, \"displacement_results.json\")\n",
    "\n",
    "if not os.path.exists(results_file_path):\n",
    "    with tarfile.open(os.path.join(data_directory, \"displacement_results.tar.xz\"), \"r:xz\", encoding=\"utf-8\") as compressed_file:\n",
    "        compressed_file.extract(\"displacement_results.json\", data_directory)"
   ]
  },
  {
   "cell_type": "markdown",
   "metadata": {},
   "source": [
    "Read the results one line at a time. Each line is json encoded."
   ]
  },
  {
   "cell_type": "code",
   "execution_count": 4,
   "metadata": {},
   "outputs": [],
   "source": [
    "with open(results_file_path, \"r\", encoding=\"utf-8\") as results_file:\n",
    "    results = []\n",
    "    line = results_file.readline().strip()\n",
    "    while line != \"\":\n",
    "        results.append(json.loads(line))\n",
    "        line = results_file.readline().strip()"
   ]
  },
  {
   "cell_type": "markdown",
   "metadata": {},
   "source": [
    "We create a graph where each node is either an attacker account or a bot contract. Also we create edges between an attacker account and a bot contract when they are respectively the source and the target of a displacement attack transaction."
   ]
  },
  {
   "cell_type": "code",
   "execution_count": 5,
   "metadata": {},
   "outputs": [],
   "source": [
    "role_graph = nx.Graph()\n",
    "bots = set()\n",
    "\n",
    "# iterate through each result\n",
    "for result in results:\n",
    "    # ignore the bad results\n",
    "    if result[\"attacker_transaction\"][\"to\"] == result[\"victim_transaction\"][\"to\"]:\n",
    "        continue\n",
    "    \n",
    "    # shortcuts\n",
    "    attacker_transaction = result[\"attacker_transaction\"]\n",
    "\n",
    "    attacker = attacker_transaction[\"from\"]\n",
    "    bot = attacker_transaction[\"to\"]\n",
    "\n",
    "    # keep the bots in a set\n",
    "    bots.add(bot)\n",
    "\n",
    "    # if the attacker is new\n",
    "    if not role_graph.has_node(attacker):\n",
    "        # add the attacker node\n",
    "        role_graph.add_node(attacker, role=\"attacker\")\n",
    "\n",
    "    # if the bot is new\n",
    "    if not role_graph.has_node(bot):\n",
    "        # add the bot node with empty stats\n",
    "        role_graph.add_node(bot, role=\"bot\", attacks=0, cost=0, profit=0)\n",
    "        \n",
    "    # update bot stats\n",
    "    role_graph.nodes[bot][\"attacks\"] += 1\n",
    "    role_graph.nodes[bot][\"cost\"] += result[\"cost_usd\"]\n",
    "    role_graph.nodes[bot][\"profit\"] += result[\"profit_usd\"]\n",
    "\n",
    "    # if the edge is new\n",
    "    if not role_graph.has_edge(attacker, bot):\n",
    "        # add the attack edge\n",
    "        role_graph.add_edge(attacker, bot, role=\"attack\")"
   ]
  },
  {
   "cell_type": "markdown",
   "metadata": {},
   "source": [
    "Find all the byte code files (downloaded in step 1) and keep them by bot address."
   ]
  },
  {
   "cell_type": "code",
   "execution_count": 6,
   "metadata": {},
   "outputs": [],
   "source": [
    "bytecode_file_name_by_bot = {}\n",
    "bytecode_directory = os.path.join(data_directory, \"displacement_bot_bytecode\")\n",
    "\n",
    "# iterate through each file in the byte code directory\n",
    "for file_name in os.listdir(bytecode_directory):\n",
    "    # validate the extension\n",
    "    assert file_name.endswith(\".bin\")\n",
    "    \n",
    "    # validate the name format {address}-{block}.bin\n",
    "    tokens = file_name.split(\"-\")\n",
    "    assert len(tokens) == 2\n",
    "    \n",
    "    # keep the file name by bot address\n",
    "    bot = tokens[0]\n",
    "    bytecode_file_name_by_bot[bot] = file_name"
   ]
  },
  {
   "cell_type": "markdown",
   "metadata": {},
   "source": [
    "A function to load the byte code of a bot."
   ]
  },
  {
   "cell_type": "code",
   "execution_count": 7,
   "metadata": {},
   "outputs": [],
   "source": [
    "def load_bot_bytecode(bot):\n",
    "    bot = Web3.toChecksumAddress(bot)\n",
    "    if bot in bytecode_file_name_by_bot:\n",
    "        file_name = bytecode_file_name_by_bot[bot]\n",
    "        file_path = os.path.join(bytecode_directory, file_name)\n",
    "        with open(file_path, \"rb\") as bytecode_file:\n",
    "            return bytecode_file.read()\n",
    "    else:\n",
    "        # return no bytes by default\n",
    "        return bytes()"
   ]
  },
  {
   "cell_type": "markdown",
   "metadata": {},
   "source": [
    "Check that there are no bots with empty byte code (can happen when we download the byte code of a destroyed contract)."
   ]
  },
  {
   "cell_type": "code",
   "execution_count": 8,
   "metadata": {},
   "outputs": [
    {
     "name": "stdout",
     "output_type": "stream",
     "text": [
      "Bots with empty bytecode:\n",
      "None\n"
     ]
    }
   ],
   "source": [
    "print(\"Bots with empty bytecode:\")\n",
    "no_bytecode_count = 0\n",
    "for bot in bots:\n",
    "    bytecode = load_bot_bytecode(bot)\n",
    "    if len(bytecode) == 0:\n",
    "        print(bot)\n",
    "        no_bytecode_count += 1\n",
    "if no_bytecode_count == 0:\n",
    "    print(\"None\")"
   ]
  },
  {
   "cell_type": "markdown",
   "metadata": {},
   "source": [
    "Go through every bot pair and create an edge between them if they have exactly the same byte code."
   ]
  },
  {
   "cell_type": "code",
   "execution_count": 9,
   "metadata": {},
   "outputs": [],
   "source": [
    "bytecode_matched_by_bot = {}\n",
    "\n",
    "# sort the boty by address to do this deterministically\n",
    "sorted_bots = sorted(bots)\n",
    "\n",
    "# iterate through each sorted bot (skip the last one)\n",
    "for i, bot in enumerate(sorted_bots[:-1]):\n",
    "    assert role_graph.has_node(bot)\n",
    "    \n",
    "    if bot not in bytecode_matched_by_bot:\n",
    "        bytecode_matched_by_bot[bot] = True  # not really necessary, we will not visit this one again\n",
    "\n",
    "        bytecode = load_bot_bytecode(bot)\n",
    "        \n",
    "        # do no match if the bot has no byte code\n",
    "        # this can happen if we did not download the code yet\n",
    "        # or if the bot was actually an account and should be ckecked\n",
    "        if len(bytecode) == 0:\n",
    "            continue\n",
    "            \n",
    "        # iterate through each sorted bot after the current one\n",
    "        for other_bot in sorted_bots[i + 1:]:\n",
    "            assert role_graph.has_node(other_bot)\n",
    "            \n",
    "            other_bytecode = load_bot_bytecode(other_bot)\n",
    "            \n",
    "            # same problem if another bot has no byte code\n",
    "            if len(other_bytecode) == 0:\n",
    "                continue\n",
    "            \n",
    "            # if the byte codes match add an edge between them\n",
    "            if bytecode == other_bytecode:\n",
    "                bytecode_matched_by_bot[other_bot] = True\n",
    "                \n",
    "                assert not role_graph.has_edge(bot, other_bot)\n",
    "                role_graph.add_edge(bot, other_bot, role=\"bytecode_match\")"
   ]
  },
  {
   "cell_type": "markdown",
   "metadata": {},
   "source": [
    "Create the clusters using an algorithm to detect connected components in the graph."
   ]
  },
  {
   "cell_type": "code",
   "execution_count": 10,
   "metadata": {
    "scrolled": false
   },
   "outputs": [
    {
     "name": "stdout",
     "output_type": "stream",
     "text": [
      "Amount of clusters: 17\n",
      "Amount of clusters with more than one bot: 5\n"
     ]
    }
   ],
   "source": [
    "cluster_id = 1\n",
    "bot_hash_to_cluster_id = {}\n",
    "attacker_hash_to_cluster_id = {}\n",
    "clusters_by_id = {}\n",
    "cluster_stats = []\n",
    "big_cluster_count = 0\n",
    "\n",
    "# iterate through each connected component of the graph\n",
    "for component in nx.connected_components(role_graph):\n",
    "    # count members by role\n",
    "    role_counter = collections.Counter([role_graph.nodes[node][\"role\"] for node in component])\n",
    "    \n",
    "    # check if there is more than one bot\n",
    "    if role_counter[\"bot\"] > 1:\n",
    "        big_cluster_count += 1\n",
    "        \n",
    "    cluster = []\n",
    "    unique_bots_in_cluster = []\n",
    "    \n",
    "    attacks = 0\n",
    "    cost = 0\n",
    "    profit = 0\n",
    "    \n",
    "    # for each member of the component\n",
    "    for member_hash in component:\n",
    "        member_role = role_graph.nodes[member_hash][\"role\"]\n",
    "        cluster.append({\"hash\": member_hash, \"role\": member_role})\n",
    "        \n",
    "        # if the member is a bot\n",
    "        if member_role == \"bot\":\n",
    "            assert member_hash not in bot_hash_to_cluster_id\n",
    "            bot_hash_to_cluster_id[member_hash] = cluster_id\n",
    "            \n",
    "            # accumulate variables\n",
    "            attacks += role_graph.nodes[member_hash][\"attacks\"]\n",
    "            cost += role_graph.nodes[member_hash][\"cost\"]\n",
    "            profit += role_graph.nodes[member_hash][\"profit\"]\n",
    "            \n",
    "            # check if the byte code is unique\n",
    "            bytecode = load_bot_bytecode(member_hash)\n",
    "            bytecode_matched = False\n",
    "            for other_member_hash in unique_bots_in_cluster:\n",
    "                other_bytecode = load_bot_bytecode(other_member_hash)\n",
    "                if bytecode == other_bytecode:\n",
    "                    bytecode_matched = True\n",
    "                    break\n",
    "                    \n",
    "            # no other member has the same byte code\n",
    "            if not bytecode_matched:\n",
    "                unique_bots_in_cluster.append(member_hash)\n",
    "            \n",
    "        # if the member is an attacker\n",
    "        elif member_role == \"attacker\":\n",
    "            assert member_hash not in attacker_hash_to_cluster_id\n",
    "            attacker_hash_to_cluster_id[member_hash] = cluster_id\n",
    "\n",
    "    # save the cluster\n",
    "    clusters_by_id[cluster_id] = cluster\n",
    "\n",
    "    # save the cluster stats\n",
    "    cluster_stats.append({\n",
    "        \"Cluster ID\": cluster_id,\n",
    "        \"Attacks\": attacks,\n",
    "        \"Cost\": cost,\n",
    "        \"Profit\": profit,\n",
    "        \"Attacker Accounts\": role_counter[\"attacker\"],\n",
    "        \"Bot Contracts\": role_counter[\"bot\"],\n",
    "        \"Unique Bot Count\": len(unique_bots_in_cluster)\n",
    "    })\n",
    "\n",
    "    # next cluster\n",
    "    cluster_id += 1\n",
    "    \n",
    "print(\"Amount of clusters:\", len(clusters_by_id))\n",
    "print(\"Amount of clusters with more than one bot:\", big_cluster_count)"
   ]
  },
  {
   "cell_type": "markdown",
   "metadata": {},
   "source": [
    "Save the all the results."
   ]
  },
  {
   "cell_type": "code",
   "execution_count": 11,
   "metadata": {},
   "outputs": [],
   "source": [
    "# json file with a list of hash and role per member\n",
    "with open(os.path.join(data_directory, \"displacement_clusters.json\"), \"w\") as json_file:\n",
    "    json.dump(clusters_by_id, json_file, indent=2)\n",
    "    \n",
    "# json file with a map of bot hash to cluster id\n",
    "with open(os.path.join(data_directory, \"displacement_bot_hash_to_cluster_id.json\"), \"w\") as json_file:\n",
    "    json.dump(bot_hash_to_cluster_id, json_file, indent=2)\n",
    "    \n",
    "# json file with a map of attacker hash to cluster id\n",
    "with open(os.path.join(data_directory, \"displacement_attacker_hash_to_cluster_id.json\"), \"w\") as json_file:\n",
    "    json.dump(attacker_hash_to_cluster_id, json_file, indent=2)\n",
    "    \n",
    "# csv file with cluster stats\n",
    "df_cluster_stats = pd.DataFrame(cluster_stats)\n",
    "df_cluster_stats.to_csv(os.path.join(data_directory, \"displacement_cluster_stats.csv\"), index=False)"
   ]
  },
  {
   "cell_type": "markdown",
   "metadata": {},
   "source": [
    "Show the collected cluster stats."
   ]
  },
  {
   "cell_type": "code",
   "execution_count": 12,
   "metadata": {},
   "outputs": [
    {
     "data": {
      "text/html": [
       "<div>\n",
       "<style scoped>\n",
       "    .dataframe tbody tr th:only-of-type {\n",
       "        vertical-align: middle;\n",
       "    }\n",
       "\n",
       "    .dataframe tbody tr th {\n",
       "        vertical-align: top;\n",
       "    }\n",
       "\n",
       "    .dataframe thead th {\n",
       "        text-align: right;\n",
       "    }\n",
       "</style>\n",
       "<table border=\"1\" class=\"dataframe\">\n",
       "  <thead>\n",
       "    <tr style=\"text-align: right;\">\n",
       "      <th></th>\n",
       "      <th>Cost</th>\n",
       "      <th>Profit</th>\n",
       "      <th>Attacks</th>\n",
       "      <th>Attacker Accounts</th>\n",
       "      <th>Bot Contracts</th>\n",
       "    </tr>\n",
       "  </thead>\n",
       "  <tbody>\n",
       "    <tr>\n",
       "      <th>count</th>\n",
       "      <td>17.000000</td>\n",
       "      <td>1.700000e+01</td>\n",
       "      <td>17.000000</td>\n",
       "      <td>17.000000</td>\n",
       "      <td>17.000000</td>\n",
       "    </tr>\n",
       "    <tr>\n",
       "      <th>mean</th>\n",
       "      <td>2505.093824</td>\n",
       "      <td>2.698724e+05</td>\n",
       "      <td>175.470588</td>\n",
       "      <td>2.882353</td>\n",
       "      <td>1.470588</td>\n",
       "    </tr>\n",
       "    <tr>\n",
       "      <th>std</th>\n",
       "      <td>9776.511411</td>\n",
       "      <td>1.005283e+06</td>\n",
       "      <td>555.026026</td>\n",
       "      <td>3.887196</td>\n",
       "      <td>0.799816</td>\n",
       "    </tr>\n",
       "    <tr>\n",
       "      <th>min</th>\n",
       "      <td>0.052052</td>\n",
       "      <td>8.220582e-03</td>\n",
       "      <td>1.000000</td>\n",
       "      <td>1.000000</td>\n",
       "      <td>1.000000</td>\n",
       "    </tr>\n",
       "    <tr>\n",
       "      <th>25%</th>\n",
       "      <td>0.136024</td>\n",
       "      <td>3.527918e+00</td>\n",
       "      <td>1.000000</td>\n",
       "      <td>1.000000</td>\n",
       "      <td>1.000000</td>\n",
       "    </tr>\n",
       "    <tr>\n",
       "      <th>50%</th>\n",
       "      <td>3.984226</td>\n",
       "      <td>7.267017e+02</td>\n",
       "      <td>5.000000</td>\n",
       "      <td>1.000000</td>\n",
       "      <td>1.000000</td>\n",
       "    </tr>\n",
       "    <tr>\n",
       "      <th>75%</th>\n",
       "      <td>65.775476</td>\n",
       "      <td>4.670943e+03</td>\n",
       "      <td>8.000000</td>\n",
       "      <td>3.000000</td>\n",
       "      <td>2.000000</td>\n",
       "    </tr>\n",
       "    <tr>\n",
       "      <th>max</th>\n",
       "      <td>40420.631983</td>\n",
       "      <td>4.152270e+06</td>\n",
       "      <td>2249.000000</td>\n",
       "      <td>16.000000</td>\n",
       "      <td>3.000000</td>\n",
       "    </tr>\n",
       "  </tbody>\n",
       "</table>\n",
       "</div>"
      ],
      "text/plain": [
       "               Cost        Profit      Attacks  Attacker Accounts  \\\n",
       "count     17.000000  1.700000e+01    17.000000          17.000000   \n",
       "mean    2505.093824  2.698724e+05   175.470588           2.882353   \n",
       "std     9776.511411  1.005283e+06   555.026026           3.887196   \n",
       "min        0.052052  8.220582e-03     1.000000           1.000000   \n",
       "25%        0.136024  3.527918e+00     1.000000           1.000000   \n",
       "50%        3.984226  7.267017e+02     5.000000           1.000000   \n",
       "75%       65.775476  4.670943e+03     8.000000           3.000000   \n",
       "max    40420.631983  4.152270e+06  2249.000000          16.000000   \n",
       "\n",
       "       Bot Contracts  \n",
       "count      17.000000  \n",
       "mean        1.470588  \n",
       "std         0.799816  \n",
       "min         1.000000  \n",
       "25%         1.000000  \n",
       "50%         1.000000  \n",
       "75%         2.000000  \n",
       "max         3.000000  "
      ]
     },
     "execution_count": 12,
     "metadata": {},
     "output_type": "execute_result"
    }
   ],
   "source": [
    "df_cluster_stats[[\n",
    "        \"Cost\",\n",
    "        \"Profit\",\n",
    "        \"Attacks\",\n",
    "        \"Attacker Accounts\",\n",
    "        \"Bot Contracts\"\n",
    "        ]].describe()"
   ]
  },
  {
   "cell_type": "markdown",
   "metadata": {},
   "source": [
    "Save the cluster collected stats in a latex table for the publication."
   ]
  },
  {
   "cell_type": "code",
   "execution_count": 13,
   "metadata": {},
   "outputs": [],
   "source": [
    "latex = df_cluster_stats[[\n",
    "        \"Cost\",\n",
    "        \"Profit\",\n",
    "        \"Attacks\",\n",
    "        \"Attacker Accounts\",\n",
    "        \"Bot Contracts\"\n",
    "        ]]\\\n",
    "      .describe()\\\n",
    "      .to_latex(index=True, formatters={\n",
    "        \"Cost\": \"{:,.2f}\".format,\n",
    "        \"Profit\": \"{:,.2f}\".format,\n",
    "        \"Attacks\": \"{:.2f}\".format,\n",
    "        \"Attacker Accounts\": \"{:.2f}\".format,\n",
    "        \"Bot Contracts\": \"{:.2f}\".format,\n",
    "        })\n",
    "\n",
    "with open(os.path.join(data_directory, \"displacement_cluster_stats.tex\"), \"w\") as latex_file:\n",
    "    latex_file.write(latex)"
   ]
  }
 ],
 "metadata": {
  "kernelspec": {
   "display_name": "Python 3",
   "language": "python",
   "name": "python3"
  },
  "language_info": {
   "codemirror_mode": {
    "name": "ipython",
    "version": 3
   },
   "file_extension": ".py",
   "mimetype": "text/x-python",
   "name": "python",
   "nbconvert_exporter": "python",
   "pygments_lexer": "ipython3",
   "version": "3.9.0"
  }
 },
 "nbformat": 4,
 "nbformat_minor": 4
}
