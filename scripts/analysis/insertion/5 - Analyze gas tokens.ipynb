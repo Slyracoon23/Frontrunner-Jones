{
 "cells": [
  {
   "cell_type": "markdown",
   "metadata": {},
   "source": [
    "# Analyze gas tokens\n",
    "\n",
    "In this step we count gas token occurrences in insertion attacks."
   ]
  },
  {
   "cell_type": "code",
   "execution_count": 1,
   "metadata": {},
   "outputs": [],
   "source": [
    "import json\n",
    "import os\n",
    "import tarfile\n",
    "\n",
    "from collections import defaultdict"
   ]
  },
  {
   "cell_type": "code",
   "execution_count": 2,
   "metadata": {},
   "outputs": [],
   "source": [
    "data_directory = os.path.join(\"..\", \"..\", \"..\", \"data\")"
   ]
  },
  {
   "cell_type": "code",
   "execution_count": 3,
   "metadata": {},
   "outputs": [],
   "source": [
    "documents_file_path = os.path.join(data_directory, \"insertion_gas_tokens.json\")\n",
    "if not os.path.exists(documents_file_path):\n",
    "    with tarfile.open(os.path.join(data_directory, \"insertion_gas_tokens.tar.xz\"), \"r:xz\", encoding=\"utf-8\") as compressed_file:\n",
    "        compressed_file.extract(\"insertion_gas_tokens.json\", data_directory)"
   ]
  },
  {
   "cell_type": "code",
   "execution_count": 4,
   "metadata": {},
   "outputs": [],
   "source": [
    "documents = []\n",
    "with open(documents_file_path, \"r\", encoding=\"utf-8\") as documents_file:\n",
    "    line = documents_file.readline().strip()\n",
    "    while line != \"\":\n",
    "        documents.append(json.loads(line))\n",
    "        line = documents_file.readline().strip()"
   ]
  },
  {
   "cell_type": "code",
   "execution_count": 5,
   "metadata": {},
   "outputs": [],
   "source": [
    "total = len([document for document in documents if document['first_transaction']['gas_token_address'] != None or document['second_transaction']['gas_token_address'] != None])\n",
    "first = len([document for document in documents if document['first_transaction']['gas_token_address'] != None])\n",
    "second = len([document for document in documents if document['second_transaction']['gas_token_address'] != None])\n",
    "both = len([document for document in documents if document['first_transaction']['gas_token_address'] != None and document['second_transaction']['gas_token_address'] != None])"
   ]
  },
  {
   "cell_type": "code",
   "execution_count": 6,
   "metadata": {},
   "outputs": [
    {
     "name": "stdout",
     "output_type": "stream",
     "text": [
      "total: 63274\n",
      "first transaction only: 48281\n",
      "second transaction only: 1404\n",
      "both transactions: 13589\n"
     ]
    }
   ],
   "source": [
    "print(\"total:\", total)\n",
    "print(\"first transaction only:\", first - both)\n",
    "print(\"second transaction only:\", second - both)\n",
    "print(\"both transactions:\", both)"
   ]
  },
  {
   "cell_type": "code",
   "execution_count": 7,
   "metadata": {},
   "outputs": [
    {
     "name": "stdout",
     "output_type": "stream",
     "text": [
      "gst2: 24042\n",
      "chi: 14932\n",
      "custom: 24300\n"
     ]
    }
   ],
   "source": [
    "tokens = defaultdict(int)\n",
    "for document in documents:\n",
    "    if document['first_transaction']['gas_token_name'] != \"\" \\\n",
    "        and document['second_transaction']['gas_token_name'] != \"\":\n",
    "        assert document['first_transaction']['gas_token_name'] == document['second_transaction']['gas_token_name']\n",
    "        tokens[document['first_transaction']['gas_token_name']] += 1\n",
    "    else:\n",
    "        if document['first_transaction']['gas_token_name'] != \"\":\n",
    "            tokens[document['first_transaction']['gas_token_name']] += 1\n",
    "\n",
    "        if document['second_transaction']['gas_token_name'] != \"\":\n",
    "            tokens[document['second_transaction']['gas_token_name']] += 1\n",
    "    \n",
    "print(\"gst2:\", tokens['Gastoken.io (GST2)'])\n",
    "print(\"chi:\", tokens['Chi Gastoken by 1inch (CHI)'])\n",
    "print(\"custom:\", tokens['Custom Token'])"
   ]
  }
 ],
 "metadata": {
  "kernelspec": {
   "display_name": "Python 3",
   "language": "python",
   "name": "python3"
  },
  "language_info": {
   "codemirror_mode": {
    "name": "ipython",
    "version": 3
   },
   "file_extension": ".py",
   "mimetype": "text/x-python",
   "name": "python",
   "nbconvert_exporter": "python",
   "pygments_lexer": "ipython3",
   "version": "3.9.0"
  }
 },
 "nbformat": 4,
 "nbformat_minor": 5
}
