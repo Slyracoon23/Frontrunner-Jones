{
 "cells": [
  {
   "cell_type": "markdown",
   "metadata": {},
   "source": [
    "# Cluster\n",
    "\n",
    "In this step we will group the attacker accounts and bot contract into attacker clusters."
   ]
  },
  {
   "cell_type": "code",
   "execution_count": 1,
   "metadata": {},
   "outputs": [
    {
     "name": "stderr",
     "output_type": "stream",
     "text": [
      "Consider installing rusty-rlp to improve pyrlp performance with a rust based backend\n"
     ]
    }
   ],
   "source": [
    "import collections\n",
    "import json\n",
    "import os\n",
    "\n",
    "import matplotlib.pyplot as plt\n",
    "import networkx as nx\n",
    "import pandas as pd\n",
    "from pandas.plotting import register_matplotlib_converters\n",
    "from web3 import Web3\n",
    "\n",
    "\n",
    "register_matplotlib_converters()\n",
    "\n",
    "%matplotlib inline\n",
    "\n",
    "plt.style.use(\"seaborn\")"
   ]
  },
  {
   "cell_type": "markdown",
   "metadata": {},
   "source": [
    "You can change the data directory if you use a different project structure."
   ]
  },
  {
   "cell_type": "code",
   "execution_count": 2,
   "metadata": {},
   "outputs": [],
   "source": [
    "data_directory = os.path.join(\"..\", \"..\", \"..\", \"data\")"
   ]
  },
  {
   "cell_type": "markdown",
   "metadata": {},
   "source": [
    "Decompress the campaigns file (if needed)."
   ]
  },
  {
   "cell_type": "code",
   "execution_count": 3,
   "metadata": {},
   "outputs": [],
   "source": [
    "campaigns_file_path = os.path.join(data_directory, \"suppression_campaigns.json\")\n",
    "if not os.path.exists(campaigns_file_path):\n",
    "    with tarfile.open(os.path.join(data_directory, \"suppression_campaigns.tar.xz\"), \"r\", encoding=\"utf-8\") as compressed_file:\n",
    "        compressed_file.extract(\"suppression_campaigns.json\", data_directory)"
   ]
  },
  {
   "cell_type": "markdown",
   "metadata": {},
   "source": [
    "Read the campaigns one line at a time. Each line is json encoded."
   ]
  },
  {
   "cell_type": "code",
   "execution_count": 4,
   "metadata": {},
   "outputs": [],
   "source": [
    "with open(campaigns_file_path, \"r\", encoding=\"utf-8\") as campaigns_file:\n",
    "    campaigns = []\n",
    "    line = campaigns_file.readline().strip()\n",
    "    while line != \"\":\n",
    "        campaigns.append(json.loads(line))\n",
    "        line = campaigns_file.readline().strip()"
   ]
  },
  {
   "cell_type": "markdown",
   "metadata": {},
   "source": [
    "We create a graph where each node is either an attacker account or a bot contract. Also we create edges between an attacker account and a bot contract when they are respectively the source and the target of a suppression attack transaction."
   ]
  },
  {
   "cell_type": "code",
   "execution_count": 5,
   "metadata": {},
   "outputs": [],
   "source": [
    "role_graph = nx.Graph()\n",
    "bots = set()\n",
    "\n",
    "# iterate through each campaign\n",
    "for campaign in campaigns:\n",
    "    # shortcuts\n",
    "    bot = campaign[\"bot_address\"]\n",
    "    \n",
    "    # keep the bots in a set\n",
    "    bots.add(bot)\n",
    "\n",
    "    # if the bot is new\n",
    "    if not role_graph.has_node(bot):\n",
    "        # add the bot node with empty stats\n",
    "        role_graph.add_node(bot, role=\"bot\", attacks=0, cost=0, profit=0)\n",
    "        \n",
    "    # update bot stats\n",
    "    role_graph.nodes[bot][\"attacks\"] += 1\n",
    "    role_graph.nodes[bot][\"cost\"] += campaign[\"costs_usd\"]\n",
    "    role_graph.nodes[bot][\"profit\"] += campaign[\"profit_usd\"]\n",
    "    \n",
    "    # iterate through each round of the campaign\n",
    "    for round_ in campaign[\"rounds\"]:\n",
    "        # iterate through each transaction of the round\n",
    "        for transaction in round_[\"transactions\"]:\n",
    "            assert transaction[\"to\"] == bot\n",
    "            attacker = transaction[\"from\"]\n",
    "\n",
    "            # if the attacker is new\n",
    "            if not role_graph.has_node(attacker):\n",
    "                # add the attacker node\n",
    "                role_graph.add_node(attacker, role=\"attacker\")\n",
    "\n",
    "            # if the edge is new\n",
    "            if not role_graph.has_edge(attacker, bot):\n",
    "                # add the attack edge\n",
    "                role_graph.add_edge(attacker, bot, role=\"attack\")"
   ]
  },
  {
   "cell_type": "markdown",
   "metadata": {},
   "source": [
    "Find all the byte code files (downloaded in step 1) and keep them by bot address."
   ]
  },
  {
   "cell_type": "code",
   "execution_count": 6,
   "metadata": {},
   "outputs": [],
   "source": [
    "bytecode_file_name_by_bot = {}\n",
    "bytecode_directory = os.path.join(data_directory, \"suppression_bot_bytecode\")\n",
    "\n",
    "# iterate through each file in the byte code directory\n",
    "for file_name in os.listdir(bytecode_directory):\n",
    "    # validate the extension\n",
    "    assert file_name.endswith(\".bin\")\n",
    "    \n",
    "    # validate the name format {address}-{block}.bin\n",
    "    tokens = file_name.split(\"-\")\n",
    "    assert len(tokens) == 2\n",
    "    \n",
    "    # keep the file name by bot address\n",
    "    bot = tokens[0]\n",
    "    bytecode_file_name_by_bot[bot] = file_name"
   ]
  },
  {
   "cell_type": "markdown",
   "metadata": {},
   "source": [
    "A function to load the byte code of a bot."
   ]
  },
  {
   "cell_type": "code",
   "execution_count": 7,
   "metadata": {},
   "outputs": [],
   "source": [
    "def load_bot_bytecode(bot):\n",
    "    bot = Web3.toChecksumAddress(bot)\n",
    "    file_name = bytecode_file_name_by_bot[bot]\n",
    "    file_path = os.path.join(bytecode_directory, file_name)\n",
    "    with open(file_path, \"rb\") as bytecode_file:\n",
    "        return bytecode_file.read()"
   ]
  },
  {
   "cell_type": "markdown",
   "metadata": {},
   "source": [
    "Check that there are no bots with empty byte code (can happen when we download the byte code of a destroyed contract)."
   ]
  },
  {
   "cell_type": "code",
   "execution_count": 8,
   "metadata": {},
   "outputs": [
    {
     "name": "stdout",
     "output_type": "stream",
     "text": [
      "Bots with empty bytecode:\n",
      "None\n"
     ]
    }
   ],
   "source": [
    "print(\"Bots with empty bytecode:\")\n",
    "no_bytecode_count = 0\n",
    "for bot in bots:\n",
    "    bytecode = load_bot_bytecode(bot)\n",
    "    if len(bytecode) == 0:\n",
    "        print(bot)\n",
    "        no_bytecode_count += 1\n",
    "if no_bytecode_count == 0:\n",
    "    print(\"None\")"
   ]
  },
  {
   "cell_type": "markdown",
   "metadata": {},
   "source": [
    "Go through every bot pair and create an edge between them if they have exactly the same byte code."
   ]
  },
  {
   "cell_type": "code",
   "execution_count": 9,
   "metadata": {
    "scrolled": false
   },
   "outputs": [],
   "source": [
    "bytecode_matched_by_bot = {}\n",
    "\n",
    "# sort the boty by address to do this deterministically\n",
    "sorted_bots = sorted(bots)\n",
    "\n",
    "# iterate through each sorted bot (skip the last one)\n",
    "for i, bot in enumerate(sorted_bots[:-1]):\n",
    "    assert role_graph.has_node(bot)\n",
    "    \n",
    "    if bot not in bytecode_matched_by_bot:\n",
    "        bytecode_matched_by_bot[bot] = True  # not really necessary, we will not visit this one again\n",
    "\n",
    "        bytecode = load_bot_bytecode(bot)\n",
    "        \n",
    "        # do no match if the bot has no byte code\n",
    "        # this can happen if we did not download the code yet\n",
    "        # or if the bot was actually an account and should be ckecked\n",
    "        if len(bytecode) == 0:\n",
    "            continue\n",
    "            \n",
    "        # iterate through each sorted bot after the current one\n",
    "        for other_bot in sorted_bots[i + 1:]:\n",
    "            assert role_graph.has_node(other_bot)\n",
    "            \n",
    "            other_bytecode = load_bot_bytecode(other_bot)\n",
    "            \n",
    "            # same problem if another bot has no byte code\n",
    "            if len(other_bytecode) == 0:\n",
    "                continue\n",
    "            \n",
    "            # if the byte codes match add an edge between them\n",
    "            if bytecode == other_bytecode:\n",
    "                bytecode_matched_by_bot[other_bot] = True\n",
    "                \n",
    "                assert not role_graph.has_edge(bot, other_bot)\n",
    "                role_graph.add_edge(bot, other_bot, role=\"bytecode_match\")"
   ]
  },
  {
   "cell_type": "markdown",
   "metadata": {},
   "source": [
    "Create the clusters using an algorithm to detect connected components in the graph."
   ]
  },
  {
   "cell_type": "code",
   "execution_count": 10,
   "metadata": {
    "scrolled": false
   },
   "outputs": [
    {
     "name": "stdout",
     "output_type": "stream",
     "text": [
      "Amount of clusters: 5\n",
      "Amount of clusters with more than one bot: 4\n"
     ]
    }
   ],
   "source": [
    "cluster_id = 1\n",
    "bot_hash_to_cluster_id = {}\n",
    "attacker_hash_to_cluster_id = {}\n",
    "clusters_by_id = {}\n",
    "cluster_stats = []\n",
    "big_cluster_count = 0\n",
    "\n",
    "# iterate through each connected component of the graph\n",
    "for component in nx.connected_components(role_graph):\n",
    "    # count members by role\n",
    "    role_counter = collections.Counter([role_graph.nodes[node][\"role\"] for node in component])\n",
    "    \n",
    "    # check if there is more than one bot\n",
    "    if role_counter[\"bot\"] > 1:\n",
    "        big_cluster_count += 1\n",
    "        \n",
    "    cluster = []\n",
    "    unique_bots_in_cluster = []\n",
    "    \n",
    "    attacks = 0\n",
    "    cost = 0\n",
    "    profit = 0\n",
    "    \n",
    "    # for each member of the component\n",
    "    for member_hash in component:\n",
    "        member_role = role_graph.nodes[member_hash][\"role\"]\n",
    "        cluster.append({\"hash\": member_hash, \"role\": member_role})\n",
    "        \n",
    "        # if the member is a bot\n",
    "        if member_role == \"bot\":\n",
    "            assert member_hash not in bot_hash_to_cluster_id\n",
    "            bot_hash_to_cluster_id[member_hash] = cluster_id\n",
    "            \n",
    "            # accumulate variables\n",
    "            attacks += role_graph.nodes[member_hash][\"attacks\"]\n",
    "            cost += role_graph.nodes[member_hash][\"cost\"]\n",
    "            profit += role_graph.nodes[member_hash][\"profit\"]\n",
    "            \n",
    "            # check if the byte code is unique\n",
    "            bytecode = load_bot_bytecode(member_hash)\n",
    "            bytecode_matched = False\n",
    "            for other_member_hash in unique_bots_in_cluster:\n",
    "                other_bytecode = load_bot_bytecode(other_member_hash)\n",
    "                if bytecode == other_bytecode:\n",
    "                    bytecode_matched = True\n",
    "                    break\n",
    "                    \n",
    "            # no other member has the same byte code\n",
    "            if not bytecode_matched:\n",
    "                unique_bots_in_cluster.append(member_hash)\n",
    "            \n",
    "        # if the member is an attacker\n",
    "        elif member_role == \"attacker\":\n",
    "            assert member_hash not in attacker_hash_to_cluster_id\n",
    "            attacker_hash_to_cluster_id[member_hash] = cluster_id\n",
    "\n",
    "    # save the cluster\n",
    "    clusters_by_id[cluster_id] = cluster\n",
    "\n",
    "    # save the cluster stats\n",
    "    cluster_stats.append({\n",
    "        \"Cluster ID\": cluster_id,\n",
    "        \"Attacks\": attacks,\n",
    "        \"Cost\": cost,\n",
    "        \"Profit\": profit,\n",
    "        \"Attacker Accounts\": role_counter[\"attacker\"],\n",
    "        \"Bot Contracts\": role_counter[\"bot\"],\n",
    "        \"Unique Bot Count\": len(unique_bots_in_cluster)\n",
    "    })\n",
    "\n",
    "    # next cluster\n",
    "    cluster_id += 1\n",
    "    \n",
    "print(\"Amount of clusters:\", len(clusters_by_id))\n",
    "print(\"Amount of clusters with more than one bot:\", big_cluster_count)"
   ]
  },
  {
   "cell_type": "markdown",
   "metadata": {},
   "source": [
    "Save the all the results."
   ]
  },
  {
   "cell_type": "code",
   "execution_count": 11,
   "metadata": {},
   "outputs": [],
   "source": [
    "# json file with a list of hash and role per member\n",
    "with open(os.path.join(data_directory, \"suppression_clusters.json\"), \"w\") as json_file:\n",
    "    json.dump(clusters_by_id, json_file, indent=2)\n",
    "    \n",
    "# json file with a map of bot hash to cluster id\n",
    "with open(os.path.join(data_directory, \"suppression_bot_hash_to_cluster_id.json\"), \"w\") as json_file:\n",
    "    json.dump(bot_hash_to_cluster_id, json_file, indent=2)\n",
    "    \n",
    "# json file with a map of attacker hash to cluster id\n",
    "with open(os.path.join(data_directory, \"suppression_attacker_hash_to_cluster_id.json\"), \"w\") as json_file:\n",
    "    json.dump(attacker_hash_to_cluster_id, json_file, indent=2)\n",
    "    \n",
    "# csv file with cluster stats\n",
    "df_cluster_stats = pd.DataFrame(cluster_stats)\n",
    "df_cluster_stats.to_csv(os.path.join(data_directory, \"suppression_cluster_stats.csv\"), index=False)"
   ]
  },
  {
   "cell_type": "markdown",
   "metadata": {},
   "source": [
    "Show the collected cluster stats."
   ]
  },
  {
   "cell_type": "code",
   "execution_count": 12,
   "metadata": {},
   "outputs": [
    {
     "data": {
      "text/html": [
       "<div>\n",
       "<style scoped>\n",
       "    .dataframe tbody tr th:only-of-type {\n",
       "        vertical-align: middle;\n",
       "    }\n",
       "\n",
       "    .dataframe tbody tr th {\n",
       "        vertical-align: top;\n",
       "    }\n",
       "\n",
       "    .dataframe thead th {\n",
       "        text-align: right;\n",
       "    }\n",
       "</style>\n",
       "<table border=\"1\" class=\"dataframe\">\n",
       "  <thead>\n",
       "    <tr style=\"text-align: right;\">\n",
       "      <th></th>\n",
       "      <th>Cost</th>\n",
       "      <th>Profit</th>\n",
       "      <th>Attacks</th>\n",
       "      <th>Attacker Accounts</th>\n",
       "      <th>Bot Contracts</th>\n",
       "    </tr>\n",
       "  </thead>\n",
       "  <tbody>\n",
       "    <tr>\n",
       "      <th>count</th>\n",
       "      <td>5.000000</td>\n",
       "      <td>5.000000</td>\n",
       "      <td>5.000000</td>\n",
       "      <td>5.00000</td>\n",
       "      <td>5.000000</td>\n",
       "    </tr>\n",
       "    <tr>\n",
       "      <th>mean</th>\n",
       "      <td>23496.516286</td>\n",
       "      <td>207252.356171</td>\n",
       "      <td>10.000000</td>\n",
       "      <td>19.60000</td>\n",
       "      <td>6.000000</td>\n",
       "    </tr>\n",
       "    <tr>\n",
       "      <th>std</th>\n",
       "      <td>20520.871744</td>\n",
       "      <td>323613.482399</td>\n",
       "      <td>7.648529</td>\n",
       "      <td>13.66748</td>\n",
       "      <td>5.244044</td>\n",
       "    </tr>\n",
       "    <tr>\n",
       "      <th>min</th>\n",
       "      <td>45.996021</td>\n",
       "      <td>-45.996021</td>\n",
       "      <td>1.000000</td>\n",
       "      <td>6.00000</td>\n",
       "      <td>1.000000</td>\n",
       "    </tr>\n",
       "    <tr>\n",
       "      <th>25%</th>\n",
       "      <td>14836.387334</td>\n",
       "      <td>19274.305876</td>\n",
       "      <td>3.000000</td>\n",
       "      <td>12.00000</td>\n",
       "      <td>2.000000</td>\n",
       "    </tr>\n",
       "    <tr>\n",
       "      <th>50%</th>\n",
       "      <td>21592.427475</td>\n",
       "      <td>115241.447079</td>\n",
       "      <td>12.000000</td>\n",
       "      <td>18.00000</td>\n",
       "      <td>5.000000</td>\n",
       "    </tr>\n",
       "    <tr>\n",
       "      <th>75%</th>\n",
       "      <td>25054.399570</td>\n",
       "      <td>124243.352133</td>\n",
       "      <td>16.000000</td>\n",
       "      <td>20.00000</td>\n",
       "      <td>8.000000</td>\n",
       "    </tr>\n",
       "    <tr>\n",
       "      <th>max</th>\n",
       "      <td>55953.371029</td>\n",
       "      <td>777548.671787</td>\n",
       "      <td>18.000000</td>\n",
       "      <td>42.00000</td>\n",
       "      <td>14.000000</td>\n",
       "    </tr>\n",
       "  </tbody>\n",
       "</table>\n",
       "</div>"
      ],
      "text/plain": [
       "               Cost         Profit    Attacks  Attacker Accounts  \\\n",
       "count      5.000000       5.000000   5.000000            5.00000   \n",
       "mean   23496.516286  207252.356171  10.000000           19.60000   \n",
       "std    20520.871744  323613.482399   7.648529           13.66748   \n",
       "min       45.996021     -45.996021   1.000000            6.00000   \n",
       "25%    14836.387334   19274.305876   3.000000           12.00000   \n",
       "50%    21592.427475  115241.447079  12.000000           18.00000   \n",
       "75%    25054.399570  124243.352133  16.000000           20.00000   \n",
       "max    55953.371029  777548.671787  18.000000           42.00000   \n",
       "\n",
       "       Bot Contracts  \n",
       "count       5.000000  \n",
       "mean        6.000000  \n",
       "std         5.244044  \n",
       "min         1.000000  \n",
       "25%         2.000000  \n",
       "50%         5.000000  \n",
       "75%         8.000000  \n",
       "max        14.000000  "
      ]
     },
     "execution_count": 12,
     "metadata": {},
     "output_type": "execute_result"
    }
   ],
   "source": [
    "df_cluster_stats[[\n",
    "        \"Cost\",\n",
    "        \"Profit\",\n",
    "        \"Attacks\",\n",
    "        \"Attacker Accounts\",\n",
    "        \"Bot Contracts\"\n",
    "        ]].describe()"
   ]
  },
  {
   "cell_type": "markdown",
   "metadata": {},
   "source": [
    "Save the cluster collected stats in a latex table for the publication."
   ]
  },
  {
   "cell_type": "code",
   "execution_count": 13,
   "metadata": {},
   "outputs": [],
   "source": [
    "latex = df_cluster_stats[[\n",
    "        \"Cost\",\n",
    "        \"Profit\",\n",
    "        \"Attacks\",\n",
    "        \"Attacker Accounts\",\n",
    "        \"Bot Contracts\"\n",
    "        ]]\\\n",
    "      .describe()\\\n",
    "      .to_latex(index=True, formatters={\n",
    "        \"Cost\": \"{:,.2f}\".format,\n",
    "        \"Profit\": \"{:,.2f}\".format,\n",
    "        \"Attacks\": \"{:.2f}\".format,\n",
    "        \"Attacker Accounts\": \"{:.2f}\".format,\n",
    "        \"Bot Contracts\": \"{:.2f}\".format,\n",
    "        })\n",
    "\n",
    "with open(os.path.join(data_directory, \"suppression_cluster_stats.tex\"), \"w\") as latex_file:\n",
    "    latex_file.write(latex)"
   ]
  }
 ],
 "metadata": {
  "kernelspec": {
   "display_name": "Python 3",
   "language": "python",
   "name": "python3"
  },
  "language_info": {
   "codemirror_mode": {
    "name": "ipython",
    "version": 3
   },
   "file_extension": ".py",
   "mimetype": "text/x-python",
   "name": "python",
   "nbconvert_exporter": "python",
   "pygments_lexer": "ipython3",
   "version": "3.9.0"
  }
 },
 "nbformat": 4,
 "nbformat_minor": 4
}
