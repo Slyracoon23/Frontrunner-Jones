{
 "cells": [
  {
   "cell_type": "markdown",
   "metadata": {},
   "source": [
    "# Analyze competition"
   ]
  },
  {
   "cell_type": "code",
   "execution_count": 1,
   "metadata": {},
   "outputs": [],
   "source": [
    "import json\n",
    "import os\n",
    "\n",
    "import matplotlib.pyplot as plt\n",
    "from pandas.plotting import register_matplotlib_converters\n",
    "\n",
    "\n",
    "register_matplotlib_converters()\n",
    "\n",
    "%matplotlib inline\n",
    "\n",
    "plt.style.use(\"seaborn\")"
   ]
  },
  {
   "cell_type": "code",
   "execution_count": 2,
   "metadata": {},
   "outputs": [],
   "source": [
    "data_directory = os.path.join(\"..\", \"..\", \"..\", \"data\")"
   ]
  },
  {
   "cell_type": "code",
   "execution_count": 3,
   "metadata": {},
   "outputs": [],
   "source": [
    "campaigns_file_path = os.path.join(data_directory, \"suppression_campaigns.json\")\n",
    "if not os.path.exists(campaigns_file_path):\n",
    "    with tarfile.open(os.path.join(data_directory, \"suppression_campaigns.tar.xz\"), \"r\", encoding=\"utf-8\") as compressed_file:\n",
    "        compressed_file.extract(\"suppression_campaigns.json\", data_directory)"
   ]
  },
  {
   "cell_type": "code",
   "execution_count": 4,
   "metadata": {},
   "outputs": [],
   "source": [
    "with open(campaigns_file_path, \"r\", encoding=\"utf-8\") as campaigns_file:\n",
    "    campaigns = []\n",
    "    line = campaigns_file.readline().strip()\n",
    "    while line != \"\":\n",
    "        campaigns.append(json.loads(line))\n",
    "        line = campaigns_file.readline().strip()"
   ]
  },
  {
   "cell_type": "code",
   "execution_count": 5,
   "metadata": {},
   "outputs": [],
   "source": [
    "with open(os.path.join(data_directory, \"suppression_bot_hash_to_cluster_id.json\"), \"r\") as json_file:\n",
    "    bot_hash_to_cluster_id = json.load(json_file)"
   ]
  },
  {
   "cell_type": "code",
   "execution_count": 6,
   "metadata": {},
   "outputs": [],
   "source": [
    "attacks_by_victim = {}\n",
    "\n",
    "for campaign in campaigns:\n",
    "    bot = campaign[\"bot_address\"]\n",
    "    victim = campaign[\"suppressed_contract_address\"]\n",
    "    \n",
    "    if victim not in attacks_by_victim:\n",
    "        attacks_by_victim[victim] = []\n",
    "    \n",
    "    for round_ in campaign[\"rounds\"]:\n",
    "        first_block = round_[\"first_block\"]\n",
    "        number_of_blocks = round_[\"nr_of_blocks\"]\n",
    "\n",
    "        attacks_by_victim[victim].append({\n",
    "            \"bot_cluster_id\": bot_hash_to_cluster_id[bot],\n",
    "            \"bot\": bot,\n",
    "            \"first_block\": round_[\"first_block\"],\n",
    "            \"number_of_blocks\": round_[\"nr_of_blocks\"],\n",
    "        })"
   ]
  },
  {
   "cell_type": "code",
   "execution_count": 7,
   "metadata": {},
   "outputs": [],
   "source": [
    "competition_by_victim = {}\n",
    "\n",
    "for victim in attacks_by_victim.keys():\n",
    "    if len(attacks_by_victim[victim]) > 1:\n",
    "        competition_by_victim[victim] = sorted(attacks_by_victim[victim], key=lambda attack: attack[\"first_block\"])"
   ]
  },
  {
   "cell_type": "code",
   "execution_count": 8,
   "metadata": {},
   "outputs": [
    {
     "name": "stdout",
     "output_type": "stream",
     "text": [
      "victim: 0xA62142888ABa8370742bE823c1782D17A0389Da1\n",
      "first attack: {'bot_cluster_id': 4, 'bot': '0xd037763925C23f5Ba592A8b2F4910D051a57A9e3', 'first_block': 6316400, 'number_of_blocks': 2}\n",
      "second attack: {'bot_cluster_id': 4, 'bot': '0xf9109191e455981dEEf5bAC0618Dcb0Aa86FAE7D', 'first_block': 6316402, 'number_of_blocks': 2}\n",
      "---\n",
      "victim: 0xA62142888ABa8370742bE823c1782D17A0389Da1\n",
      "first attack: {'bot_cluster_id': 4, 'bot': '0xd037763925C23f5Ba592A8b2F4910D051a57A9e3', 'first_block': 6316405, 'number_of_blocks': 2}\n",
      "second attack: {'bot_cluster_id': 4, 'bot': '0xf9109191e455981dEEf5bAC0618Dcb0Aa86FAE7D', 'first_block': 6316407, 'number_of_blocks': 1}\n",
      "---\n",
      "victim: 0xDd9fd6b6F8f7ea932997992bbE67EabB3e316f3C\n",
      "first attack: {'bot_cluster_id': 4, 'bot': '0xd037763925C23f5Ba592A8b2F4910D051a57A9e3', 'first_block': 6232120, 'number_of_blocks': 2}\n",
      "second attack: {'bot_cluster_id': 2, 'bot': '0xD6e8a9a1873fa97a75e0b8bc954aa5C698820273', 'first_block': 6232122, 'number_of_blocks': 4}\n",
      "---\n"
     ]
    }
   ],
   "source": [
    "for victim, attacks in competition_by_victim.items():\n",
    "    attack = attacks[0]\n",
    "    for next_attack in attacks[1:]:\n",
    "        if attack[\"first_block\"] + attack[\"number_of_blocks\"] >= next_attack[\"first_block\"]:\n",
    "            print(\"victim:\", victim)\n",
    "            print(\"first attack:\", attack)\n",
    "            print(\"second attack:\", next_attack)\n",
    "            print(\"---\")\n",
    "        attack = next_attack"
   ]
  }
 ],
 "metadata": {
  "kernelspec": {
   "display_name": "Python 3",
   "language": "python",
   "name": "python3"
  },
  "language_info": {
   "codemirror_mode": {
    "name": "ipython",
    "version": 3
   },
   "file_extension": ".py",
   "mimetype": "text/x-python",
   "name": "python",
   "nbconvert_exporter": "python",
   "pygments_lexer": "ipython3",
   "version": "3.9.0"
  }
 },
 "nbformat": 4,
 "nbformat_minor": 4
}
